{
 "cells": [
  {
   "cell_type": "code",
   "execution_count": 74,
   "id": "5bf927fc",
   "metadata": {},
   "outputs": [
    {
     "data": {
      "text/plain": [
       "0.6812"
      ]
     },
     "execution_count": 74,
     "metadata": {},
     "output_type": "execute_result"
    }
   ],
   "source": [
    "#  Prova la legge dEi grandi numeri per N numeri casuali normalmente distribuiti con\n",
    "# media = 0, stdev = 1:\n",
    "# Crea uno script Python che conterà il numero di questi numeri tra -1\n",
    "# e 1 e dividI per la quantità totale di N\n",
    "# Sapendo che E (X) = 68,2%\n",
    "# Controlla che la media (XN) -> E (X) mentre riesegui lo script aumentando N\n",
    "\n",
    "\n",
    "import numpy as np \n",
    "from numpy.random import randn\n",
    "\n",
    "N = 100000\n",
    "counter = 0\n",
    "for i in randn(N):\n",
    "    if i > -1 and i < 1:\n",
    "        counter = counter + 1\n",
    "counter/N"
   ]
  }
 ],
 "metadata": {
  "kernelspec": {
   "display_name": "Python 3 (ipykernel)",
   "language": "python",
   "name": "python3"
  },
  "language_info": {
   "codemirror_mode": {
    "name": "ipython",
    "version": 3
   },
   "file_extension": ".py",
   "mimetype": "text/x-python",
   "name": "python",
   "nbconvert_exporter": "python",
   "pygments_lexer": "ipython3",
   "version": "3.9.7"
  }
 },
 "nbformat": 4,
 "nbformat_minor": 5
}
