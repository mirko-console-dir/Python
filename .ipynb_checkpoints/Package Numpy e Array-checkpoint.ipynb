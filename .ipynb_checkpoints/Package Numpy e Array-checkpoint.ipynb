{
 "cells": [
  {
   "cell_type": "code",
   "execution_count": 88,
   "id": "03d40e4a",
   "metadata": {},
   "outputs": [],
   "source": [
    "l = [123, 21, 432, -21]"
   ]
  },
  {
   "cell_type": "code",
   "execution_count": 89,
   "id": "ba8a864f",
   "metadata": {},
   "outputs": [
    {
     "data": {
      "text/plain": [
       "[123, 21, 432, -21]"
      ]
     },
     "execution_count": 89,
     "metadata": {},
     "output_type": "execute_result"
    }
   ],
   "source": [
    "l"
   ]
  },
  {
   "cell_type": "code",
   "execution_count": 90,
   "id": "accd75c4",
   "metadata": {},
   "outputs": [],
   "source": [
    "#. In Phyton c'è l'array che ha diverso dalle liste per le sue prorpietà e funzioni \n",
    "#. 2 tipi di Array quello nel Core e quello nel package Numpy"
   ]
  },
  {
   "cell_type": "code",
   "execution_count": 91,
   "id": "fb478032",
   "metadata": {},
   "outputs": [],
   "source": [
    "import numpy as np"
   ]
  },
  {
   "cell_type": "code",
   "execution_count": 92,
   "id": "280feca0",
   "metadata": {},
   "outputs": [
    {
     "data": {
      "text/plain": [
       "array([123,  21, 432, -21])"
      ]
     },
     "execution_count": 92,
     "metadata": {},
     "output_type": "execute_result"
    }
   ],
   "source": [
    "a = np.array(l) # Creare un ARRAY array()converte una lista in un array\n",
    "a"
   ]
  },
  {
   "cell_type": "code",
   "execution_count": 93,
   "id": "a226c11a",
   "metadata": {},
   "outputs": [
    {
     "data": {
      "text/plain": [
       "array(['12', '1', '-1', 'True', 'q'], dtype='<U21')"
      ]
     },
     "execution_count": 93,
     "metadata": {},
     "output_type": "execute_result"
    }
   ],
   "source": [
    "w = np.array([12,1,-1,True,'q'])\n",
    "w"
   ]
  },
  {
   "cell_type": "code",
   "execution_count": 96,
   "id": "76eb3ad1",
   "metadata": {},
   "outputs": [
    {
     "name": "stdout",
     "output_type": "stream",
     "text": [
      "['12' '1' '-1' 'True' 'q']\n"
     ]
    }
   ],
   "source": [
    "print(w)"
   ]
  },
  {
   "cell_type": "code",
   "execution_count": 97,
   "id": "04d407ac",
   "metadata": {},
   "outputs": [
    {
     "data": {
      "text/plain": [
       "-21"
      ]
     },
     "execution_count": 97,
     "metadata": {},
     "output_type": "execute_result"
    }
   ],
   "source": [
    "#BENEFICI DEGLI ARRAY con nomearray.TAB vedi le funzioni grazie al package numpy\n",
    "l.pop()"
   ]
  },
  {
   "cell_type": "code",
   "execution_count": 98,
   "id": "b787131f",
   "metadata": {},
   "outputs": [
    {
     "data": {
      "text/plain": [
       "138.75"
      ]
     },
     "execution_count": 98,
     "metadata": {},
     "output_type": "execute_result"
    }
   ],
   "source": [
    "#BENEFICI DEGLI ARRAY con nomearray.TAB vedi le funzioni grazie al package numpy\n",
    "a.mean()"
   ]
  },
  {
   "cell_type": "code",
   "execution_count": 99,
   "id": "23b3e46b",
   "metadata": {},
   "outputs": [
    {
     "data": {
      "text/plain": [
       "array([123,  21, 432, -21])"
      ]
     },
     "execution_count": 99,
     "metadata": {},
     "output_type": "execute_result"
    }
   ],
   "source": [
    "#CONCETTO DI SLICING DEGLI ARRAY\n",
    "# \n",
    "a"
   ]
  },
  {
   "cell_type": "code",
   "execution_count": 112,
   "id": "ac11067c",
   "metadata": {},
   "outputs": [
    {
     "data": {
      "text/plain": [
       "array([11, 11])"
      ]
     },
     "execution_count": 112,
     "metadata": {},
     "output_type": "execute_result"
    }
   ],
   "source": [
    "a[2:4] # QUANDO RICHIAMIAMO DA UN ARRAY come es. dal 2 al 4 senza includerlo non ritorna una copia, bensi \n",
    "       # come in una lista, RITORNA un RIFERIMENTO"
   ]
  },
  {
   "cell_type": "code",
   "execution_count": 103,
   "id": "46138efb",
   "metadata": {},
   "outputs": [],
   "source": [
    "b = a[2:4] # impostiamo che b prende come riferimento all'indice 2 a elem 4 non includendolo"
   ]
  },
  {
   "cell_type": "code",
   "execution_count": 104,
   "id": "d1b0ca92",
   "metadata": {},
   "outputs": [
    {
     "data": {
      "text/plain": [
       "array([432, -21])"
      ]
     },
     "execution_count": 104,
     "metadata": {},
     "output_type": "execute_result"
    }
   ],
   "source": [
    "b"
   ]
  },
  {
   "cell_type": "code",
   "execution_count": 105,
   "id": "77ba1356",
   "metadata": {},
   "outputs": [],
   "source": [
    "b[:] = 11 #prendi tuttto b e sostituiscolo con 11"
   ]
  },
  {
   "cell_type": "code",
   "execution_count": 107,
   "id": "9a3c5b5d",
   "metadata": {},
   "outputs": [
    {
     "data": {
      "text/plain": [
       "array([11, 11])"
      ]
     },
     "execution_count": 107,
     "metadata": {},
     "output_type": "execute_result"
    }
   ],
   "source": [
    "b"
   ]
  },
  {
   "cell_type": "code",
   "execution_count": 109,
   "id": "c9fd29f9",
   "metadata": {},
   "outputs": [
    {
     "data": {
      "text/plain": [
       "array([123,  21,  11,  11])"
      ]
     },
     "execution_count": 109,
     "metadata": {},
     "output_type": "execute_result"
    }
   ],
   "source": [
    "a # vediamo che il riferimento di a è stato sovrascritto"
   ]
  },
  {
   "cell_type": "code",
   "execution_count": 110,
   "id": "322aab10",
   "metadata": {},
   "outputs": [
    {
     "data": {
      "text/plain": [
       "array([123,  21,  11,  11])"
      ]
     },
     "execution_count": 110,
     "metadata": {},
     "output_type": "execute_result"
    }
   ],
   "source": [
    "#Per creare copia di n array\n",
    "c = a.copy()\n",
    "c"
   ]
  },
  {
   "cell_type": "code",
   "execution_count": 111,
   "id": "b3dd20a4",
   "metadata": {},
   "outputs": [
    {
     "data": {
      "text/plain": [
       "array([123,  21,  11,  11])"
      ]
     },
     "execution_count": 111,
     "metadata": {},
     "output_type": "execute_result"
    }
   ],
   "source": [
    "a"
   ]
  }
 ],
 "metadata": {
  "kernelspec": {
   "display_name": "Python 3 (ipykernel)",
   "language": "python",
   "name": "python3"
  },
  "language_info": {
   "codemirror_mode": {
    "name": "ipython",
    "version": 3
   },
   "file_extension": ".py",
   "mimetype": "text/x-python",
   "name": "python",
   "nbconvert_exporter": "python",
   "pygments_lexer": "ipython3",
   "version": "3.9.7"
  }
 },
 "nbformat": 4,
 "nbformat_minor": 5
}
