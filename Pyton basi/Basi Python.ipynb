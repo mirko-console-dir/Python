{
 "cells": [
  {
   "cell_type": "code",
   "execution_count": 8,
   "id": "5183211c",
   "metadata": {},
   "outputs": [
    {
     "data": {
      "text/plain": [
       "[3, 'hello', True, [3, 'hello', True]]"
      ]
     },
     "execution_count": 8,
     "metadata": {},
     "output_type": "execute_result"
    }
   ],
   "source": [
    "#liste e range()\n",
    "\n",
    "myList = [3,'hello',True, myList]\n",
    "\n",
    "myList"
   ]
  },
  {
   "cell_type": "code",
   "execution_count": 10,
   "id": "a5fe5b61",
   "metadata": {},
   "outputs": [
    {
     "data": {
      "text/plain": [
       "range(0, 15)"
      ]
     },
     "execution_count": 10,
     "metadata": {},
     "output_type": "execute_result"
    }
   ],
   "source": [
    "range(15) #senza generare lista in memoria da 0 a 14"
   ]
  },
  {
   "cell_type": "code",
   "execution_count": 14,
   "id": "d5cb7938",
   "metadata": {},
   "outputs": [
    {
     "data": {
      "text/plain": [
       "[4, 5, 6, 7, 8, 9, 10, 11, 12, 13, 14]"
      ]
     },
     "execution_count": 14,
     "metadata": {},
     "output_type": "execute_result"
    }
   ],
   "source": [
    "list(range(4,15)) #genera lista del range salvandola in memoria"
   ]
  },
  {
   "cell_type": "code",
   "execution_count": 16,
   "id": "274a25f7",
   "metadata": {},
   "outputs": [
    {
     "data": {
      "text/plain": [
       "[4, 6, 8, 10, 12, 14]"
      ]
     },
     "execution_count": 16,
     "metadata": {},
     "output_type": "execute_result"
    }
   ],
   "source": [
    "list(range(4,15,2)) #genera lista saltando 2 elementi"
   ]
  },
  {
   "cell_type": "code",
   "execution_count": 24,
   "id": "ce89ec57",
   "metadata": {},
   "outputs": [
    {
     "data": {
      "text/plain": [
       "'b'"
      ]
     },
     "execution_count": 24,
     "metadata": {},
     "output_type": "execute_result"
    }
   ],
   "source": [
    "# Accedere ai valori della lista con []\n",
    "w = ['a','b','c']\n",
    "w[1]"
   ]
  },
  {
   "cell_type": "code",
   "execution_count": 27,
   "id": "abec3397",
   "metadata": {},
   "outputs": [
    {
     "data": {
      "text/plain": [
       "'b'"
      ]
     },
     "execution_count": 27,
     "metadata": {},
     "output_type": "execute_result"
    }
   ],
   "source": [
    "w[-2] #in R l'indice negativo esclude l'elemento a quell'indice"
   ]
  },
  {
   "cell_type": "code",
   "execution_count": 90,
   "id": "f722ca03",
   "metadata": {},
   "outputs": [
    {
     "data": {
      "text/plain": [
       "3"
      ]
     },
     "execution_count": 90,
     "metadata": {},
     "output_type": "execute_result"
    }
   ],
   "source": [
    "w = ['a','b','c']\n",
    "\n",
    "len(w)"
   ]
  },
  {
   "cell_type": "code",
   "execution_count": 132,
   "id": "b9d0f997",
   "metadata": {},
   "outputs": [
    {
     "data": {
      "text/plain": [
       "['a', 'b', 'c', 'd', 'f', 'g', 'h', 'i', 'j', 'l']"
      ]
     },
     "execution_count": 132,
     "metadata": {},
     "output_type": "execute_result"
    }
   ],
   "source": [
    "#Affettare lisa slicing [dal(val) : al(val) :  passo/step default 1] con idici negativi o positivi per creare fette \n",
    "#  2 : 7 # dall'elemento ocn indice 2 fino all'elemento 7 con indice 6\n",
    "#  -8 : 7 # sarebbe uguale dire dal valore -8 se lista parte con indice negativo -10 \n",
    "#  -8: -3 # uguale a sopra\n",
    "#  2: 9: 2 # prendo da indice 2 ,fino al nono(9) elemento non comprendendolo, ogni volta saltando il primo \n",
    "letters = [ 'a','b','c','d', 'f', 'g', 'h','i', 'j','l']\n",
    "letters"
   ]
  },
  {
   "cell_type": "code",
   "execution_count": 8,
   "id": "81dd947b",
   "metadata": {},
   "outputs": [
    {
     "data": {
      "text/plain": [
       "['a', 'b', 'c', 'd']"
      ]
     },
     "execution_count": 8,
     "metadata": {},
     "output_type": "execute_result"
    }
   ],
   "source": [
    "letters[:]"
   ]
  },
  {
   "cell_type": "code",
   "execution_count": 32,
   "id": "509a5894",
   "metadata": {},
   "outputs": [
    {
     "data": {
      "text/plain": [
       "['a', 'b', 'c']"
      ]
     },
     "execution_count": 32,
     "metadata": {},
     "output_type": "execute_result"
    }
   ],
   "source": [
    "letters[:3]"
   ]
  },
  {
   "cell_type": "code",
   "execution_count": 13,
   "id": "328ef6c8",
   "metadata": {},
   "outputs": [
    {
     "data": {
      "text/plain": [
       "['c']"
      ]
     },
     "execution_count": 13,
     "metadata": {},
     "output_type": "execute_result"
    }
   ],
   "source": [
    "letters[2:3]"
   ]
  },
  {
   "cell_type": "code",
   "execution_count": 35,
   "id": "17f00f5e",
   "metadata": {},
   "outputs": [
    {
     "data": {
      "text/plain": [
       "['a', 'b', 'c']"
      ]
     },
     "execution_count": 35,
     "metadata": {},
     "output_type": "execute_result"
    }
   ],
   "source": [
    "letters[-5: 3]"
   ]
  },
  {
   "cell_type": "code",
   "execution_count": 133,
   "id": "86638857",
   "metadata": {},
   "outputs": [
    {
     "data": {
      "text/plain": [
       "['c', 'f', 'h', 'j']"
      ]
     },
     "execution_count": 133,
     "metadata": {},
     "output_type": "execute_result"
    }
   ],
   "source": [
    "letters[2: 9 : 2]"
   ]
  },
  {
   "cell_type": "code",
   "execution_count": 125,
   "id": "80d2b05f",
   "metadata": {},
   "outputs": [
    {
     "data": {
      "text/plain": [
       "['a', 'c']"
      ]
     },
     "execution_count": 125,
     "metadata": {},
     "output_type": "execute_result"
    }
   ],
   "source": [
    "letters[:: 2]"
   ]
  },
  {
   "cell_type": "code",
   "execution_count": 127,
   "id": "c9f79384",
   "metadata": {},
   "outputs": [
    {
     "data": {
      "text/plain": [
       "['d', 'c', 'b', 'a']"
      ]
     },
     "execution_count": 127,
     "metadata": {},
     "output_type": "execute_result"
    }
   ],
   "source": [
    "letters[:: -1] #restituisce alla rovescia"
   ]
  },
  {
   "cell_type": "code",
   "execution_count": 53,
   "id": "5ccece61",
   "metadata": {},
   "outputs": [
    {
     "data": {
      "text/plain": [
       "[1, 2, 3, 4]"
      ]
     },
     "execution_count": 53,
     "metadata": {},
     "output_type": "execute_result"
    }
   ],
   "source": [
    "#      LIST COMPREHENSIONS\n",
    "#come creare una lista\n",
    "list1 = [ 1,2,3,4]\n",
    "list1\n"
   ]
  },
  {
   "cell_type": "code",
   "execution_count": 64,
   "id": "b95de27d",
   "metadata": {},
   "outputs": [
    {
     "data": {
      "text/plain": [
       "[0, 1, 2, 3]"
      ]
     },
     "execution_count": 64,
     "metadata": {},
     "output_type": "execute_result"
    }
   ],
   "source": [
    "#copiare la lista\n",
    "list2 = list1[:]\n",
    "list2\n",
    "list3 = list2.copy() \n",
    "list3\n",
    "list4 = list(range(0,4))\n",
    "list4"
   ]
  },
  {
   "cell_type": "code",
   "execution_count": 68,
   "id": "43979eaf",
   "metadata": {},
   "outputs": [
    {
     "data": {
      "text/plain": [
       "[1,\n",
       " 8,\n",
       " 27,\n",
       " 64,\n",
       " 125,\n",
       " 216,\n",
       " 343,\n",
       " 512,\n",
       " 729,\n",
       " 1000,\n",
       " 1331,\n",
       " 1728,\n",
       " 2197,\n",
       " 2744,\n",
       " 3375,\n",
       " 4096,\n",
       " 4913,\n",
       " 5832,\n",
       " 6859,\n",
       " 8000]"
      ]
     },
     "execution_count": 68,
     "metadata": {},
     "output_type": "execute_result"
    }
   ],
   "source": [
    "# stampiamo tutti i numeri cubi dal 1 al 21\n",
    "cubi = []\n",
    "for i in range(1,21): \n",
    "    cubi.append(i**3)\n",
    "cubi    "
   ]
  },
  {
   "cell_type": "code",
   "execution_count": 82,
   "id": "5344a919",
   "metadata": {},
   "outputs": [
    {
     "data": {
      "text/plain": [
       "[8, 64, 216, 512, 1000, 1728, 2744, 4096, 5832, 8000]"
      ]
     },
     "execution_count": 82,
     "metadata": {},
     "output_type": "execute_result"
    }
   ],
   "source": [
    "#stampare i cubi in modo più facile con list comprehensions a sinistra del loop cosa vogliamo ritornare,\n",
    "#possiamo concatenare anche una if\n",
    "\n",
    "cubi = [ i**3 for i in range(1,21) if i%2 == 0]\n",
    "cubi"
   ]
  },
  {
   "cell_type": "code",
   "execution_count": 83,
   "id": "fe031370",
   "metadata": {},
   "outputs": [
    {
     "data": {
      "text/plain": [
       "[(1, 1),\n",
       " (2, 8),\n",
       " (3, 27),\n",
       " (4, 64),\n",
       " (5, 125),\n",
       " (6, 216),\n",
       " (7, 343),\n",
       " (8, 512),\n",
       " (9, 729),\n",
       " (10, 1000),\n",
       " (11, 1331),\n",
       " (12, 1728),\n",
       " (13, 2197),\n",
       " (14, 2744),\n",
       " (15, 3375),\n",
       " (16, 4096),\n",
       " (17, 4913),\n",
       " (18, 5832),\n",
       " (19, 6859),\n",
       " (20, 8000)]"
      ]
     },
     "execution_count": 83,
     "metadata": {},
     "output_type": "execute_result"
    }
   ],
   "source": [
    "#ritornare un tupla con primo valore numero secondo valore potenza\n",
    "cubi = [(i,i**3) for i in range(1,21)]\n",
    "cubi"
   ]
  },
  {
   "cell_type": "code",
   "execution_count": 146,
   "id": "f937b76a",
   "metadata": {},
   "outputs": [
    {
     "data": {
      "text/plain": [
       "[(2, 2),\n",
       " (2, 3),\n",
       " (2, 5),\n",
       " (2, 7),\n",
       " (4, 2),\n",
       " (4, 3),\n",
       " (4, 5),\n",
       " (4, 7),\n",
       " (6, 2),\n",
       " (6, 3),\n",
       " (6, 5),\n",
       " (6, 7),\n",
       " (8, 2),\n",
       " (8, 3),\n",
       " (8, 5),\n",
       " (8, 7)]"
      ]
     },
     "execution_count": 146,
     "metadata": {},
     "output_type": "execute_result"
    }
   ],
   "source": [
    "# tupla ogni valore lista1 con ogni valore della lista 2\n",
    "lista1 = [2,4,6,8]\n",
    "lista2 = [2,3,5,7]\n",
    "listMulti = []\n",
    "for i in lista1:\n",
    "    for j in lista2:\n",
    "        listMulti.append((i,j))\n",
    "listMulti       "
   ]
  },
  {
   "cell_type": "code",
   "execution_count": 118,
   "id": "7d369958",
   "metadata": {},
   "outputs": [
    {
     "data": {
      "text/plain": [
       "[4, 6, 10, 14, 8, 12, 20, 28, 12, 18, 30, 42, 16, 24, 40, 56]"
      ]
     },
     "execution_count": 118,
     "metadata": {},
     "output_type": "execute_result"
    }
   ],
   "source": [
    "#ogni valore lista1 moltiplicato con ogni valore della lista 2\n",
    "lista1 = [2,4,6,8]\n",
    "lista2 = [2,3,5,7]\n",
    "listMulti2 = []\n",
    "for i in lista1:\n",
    "    for j in lista2:\n",
    "        listMulti2.append(i*j)\n",
    "listMulti2"
   ]
  },
  {
   "cell_type": "code",
   "execution_count": 150,
   "id": "96f4dcbe",
   "metadata": {},
   "outputs": [
    {
     "data": {
      "text/plain": [
       "[(1, 5),\n",
       " (1, 6),\n",
       " (1, 7),\n",
       " (1, 8),\n",
       " (2, 5),\n",
       " (2, 6),\n",
       " (2, 7),\n",
       " (2, 8),\n",
       " (3, 5),\n",
       " (3, 6),\n",
       " (3, 7),\n",
       " (3, 8),\n",
       " (4, 5),\n",
       " (4, 6),\n",
       " (4, 7),\n",
       " (4, 8)]"
      ]
     },
     "execution_count": 150,
     "metadata": {},
     "output_type": "execute_result"
    }
   ],
   "source": [
    "#RISULTATO PIU PULITO CON LIST COMPREHENSIONS a sx cosa vogliamo toranere e i cicli direttamente nelle parentesi []\n",
    "#ricordati che oer richiamare elementi dalle liste si usano sempre le [] es. listMulti[1] //(3,7) \n",
    "#in questo caso calcoliamo direttamente qui in list comprehension\n",
    "lista1 = [1,2,3,4]\n",
    "lista2 = [5,6,7,8]\n",
    "listMulti = [(i,j) for i in lista1 for j in lista2]\n",
    "listMulti"
   ]
  },
  {
   "cell_type": "code",
   "execution_count": 135,
   "id": "c141065c",
   "metadata": {},
   "outputs": [
    {
     "data": {
      "text/plain": [
       "6"
      ]
     },
     "execution_count": 135,
     "metadata": {},
     "output_type": "execute_result"
    }
   ],
   "source": [
    "#concettO di Tuple Lista di valori immutabili \n",
    "# ( si utilizza per poter passare i dati a una funzione e vogliamo che questi dati non vengano cambiati es. giorni dei mesi)\n",
    "\n",
    "t1 = (2,4,6)\n",
    "t1[2]  #accedere agli elementi"
   ]
  }
 ],
 "metadata": {
  "kernelspec": {
   "display_name": "Python 3 (ipykernel)",
   "language": "python",
   "name": "python3"
  },
  "language_info": {
   "codemirror_mode": {
    "name": "ipython",
    "version": 3
   },
   "file_extension": ".py",
   "mimetype": "text/x-python",
   "name": "python",
   "nbconvert_exporter": "python",
   "pygments_lexer": "ipython3",
   "version": "3.9.7"
  }
 },
 "nbformat": 4,
 "nbformat_minor": 5
}
