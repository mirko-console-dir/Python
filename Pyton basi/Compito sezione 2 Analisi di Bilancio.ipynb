{
 "cells": [
  {
   "cell_type": "code",
   "execution_count": 1,
   "id": "3bc35746",
   "metadata": {},
   "outputs": [],
   "source": [
    "#Scenario: sei un data scientist che lavora per una società di\n",
    "#consulenza. Uno dei tuoi\n",
    "#colleghi del dipartimento Auditing ti ha chiesto di aiutarlo a valutare il rendiconto finanziario dell'organizzazione X.\n",
    "#Sono stati forniti due vettori di dati: entrate mensili e spese mensili dell'anno finanziario in questione. Il tuo\n",
    "#compito è calcolare quanto segue:\n",
    "\n",
    "# - profitto per ogni mese\n",
    "# - utile al netto delle imposte per ogni mese (l'aliquota fiscale è del 30%)\n",
    "# - margine di profitto per ogni mese - equivale a profitto al netto delle imposte diviso per le entrate\n",
    "# - migliori mesi - in cui l'utile al netto delle imposte è stato superiore alla media dell'anno\n",
    "# - peggiori mesi - in cui l'utile al netto delle imposte è stato inferiore alla media dell'anno\n",
    "# - il mese migliore - in cui l'utile al netto delle imposte è stato il massimo per l'anno\n",
    "# - il mese peggiore - in cui l'utile al netto delle imposte è stato il minimo per l'anno .\n",
    "\n",
    "#Tutti i risultati devono essere presentati come vettori.\n",
    "#I risultati per i valori in dollari devono essere calcolati con\n",
    "#una precisione di $ 0,01, ma devono essere presentati in unità di $ 1.000 (ovvero 1k) senza punti decimali.\n",
    "#I risultati per il margine di profitto devono essere presentati in unità di % senza punti decimali.\n",
    "#Nota: il tuo collega ti ha avvertito che va bene che le tasse per un determinato mese siano\n",
    "#negative (in termini contabili, l'imposta negativa si traduce in un'attività fiscale differita) "
   ]
  },
  {
   "cell_type": "code",
   "execution_count": 18,
   "id": "05945847",
   "metadata": {},
   "outputs": [],
   "source": [
    "#Data \n",
    "revenue = [14574.49, 7606.46, 8611.41, 9175.41, 8058.65, 8105.44, 11496.28, 9766.09, 10305.32, 14379.96, 10713.97, 15433.50]\n",
    "expenses = [12051.82, 5695.07, 12319.20, 12089.72, 8658.57, 840.20, 3285.73, 5821.12, 6976.93, 16618.61, 10054.37, 3803.96]\n",
    "import numpy as np\n"
   ]
  },
  {
   "cell_type": "code",
   "execution_count": 163,
   "id": "2a4a7a26",
   "metadata": {},
   "outputs": [
    {
     "data": {
      "text/plain": [
       "[2523, 1911, -3708, -2914, -600, 7265, 8211, 3945, 3328, -2239, 660, 11630]"
      ]
     },
     "execution_count": 163,
     "metadata": {},
     "output_type": "execute_result"
    }
   ],
   "source": [
    "months = ['JEN','FEB','MAR','APR','MAY', 'JUN','JUL','AUG','SEP','OCT','NOV','DIC']   #months\n",
    "ms = np.array(months)\n",
    "profits = list([]) # # - profitto per ogni mese\n",
    "\n",
    "for i in range (0, len(revenue)):\n",
    "    profits.append(round(revenue[i] - expenses[i]))\n",
    "profits                              "
   ]
  },
  {
   "cell_type": "code",
   "execution_count": 179,
   "id": "da865a92",
   "metadata": {},
   "outputs": [
    {
     "data": {
      "text/plain": [
       "[1766.1,\n",
       " 1337.7,\n",
       " -2595.6,\n",
       " -2039.8,\n",
       " -420.0,\n",
       " 5085.5,\n",
       " 5747.7,\n",
       " 2761.5,\n",
       " 2329.6,\n",
       " -1567.3,\n",
       " 462.0,\n",
       " 8141.0]"
      ]
     },
     "execution_count": 179,
     "metadata": {},
     "output_type": "execute_result"
    }
   ],
   "source": [
    "# - utile al netto delle imposte per ogni mese (l'aliquota fiscale è del 30%)\n",
    "tax = [round(i * 0.3, 2) for i in profits]\n",
    "tax\n",
    "profit_after_tax = list([])\n",
    "\n",
    "for i in range(0, len(profits)):\n",
    "    profit_after_tax.append(profits[i] - tax[i])\n",
    "profit_after_tax"
   ]
  },
  {
   "cell_type": "code",
   "execution_count": 184,
   "id": "d4e7a50e",
   "metadata": {},
   "outputs": [
    {
     "data": {
      "text/plain": [
       "[12.12,\n",
       " 17.59,\n",
       " -30.14,\n",
       " -22.23,\n",
       " -5.21,\n",
       " 62.74,\n",
       " 50.0,\n",
       " 28.28,\n",
       " 22.61,\n",
       " -10.9,\n",
       " 4.31,\n",
       " 52.75]"
      ]
     },
     "execution_count": 184,
     "metadata": {},
     "output_type": "execute_result"
    }
   ],
   "source": [
    "# - margine di profitto per ogni mese - equivale a profitto al netto delle imposte diviso per le entrate\n",
    "profit_margin = list([])\n",
    "\n",
    "for i in range(0,len(profits)):\n",
    "    profit_margin.append(profit_after_tax[i]/revenue[i])\n",
    "profit_margin = [round((i*100),2) for i in profit_margin]\n",
    "profit_margin"
   ]
  },
  {
   "cell_type": "code",
   "execution_count": 188,
   "id": "a8d64b86",
   "metadata": {},
   "outputs": [
    {
     "data": {
      "text/plain": [
       "1750.7"
      ]
     },
     "execution_count": 188,
     "metadata": {},
     "output_type": "execute_result"
    }
   ],
   "source": [
    "# - profit after tax mean\n",
    "mean_pat = sum(profit_after_tax) / len(profit_after_tax)\n",
    "mean_pat"
   ]
  },
  {
   "cell_type": "code",
   "execution_count": 192,
   "id": "2ddbecec",
   "metadata": {},
   "outputs": [
    {
     "data": {
      "text/plain": [
       "[True, False, False, False, False, True, True, True, True, False, False, True]"
      ]
     },
     "execution_count": 192,
     "metadata": {},
     "output_type": "execute_result"
    }
   ],
   "source": [
    "# - migliori mesi - in cui l'utile al netto delle imposte è stato superiore alla media dell'anno\n",
    "good_months = list([])\n",
    "for i in range(0,len(profits)):\n",
    "    good_months.append(profit_after_tax[i] > mean_pat)\n",
    "good_months"
   ]
  },
  {
   "cell_type": "code",
   "execution_count": 195,
   "id": "9a89d99a",
   "metadata": {},
   "outputs": [
    {
     "data": {
      "text/plain": [
       "[False, True, True, True, True, False, False, False, False, True, True, False]"
      ]
     },
     "execution_count": 195,
     "metadata": {},
     "output_type": "execute_result"
    }
   ],
   "source": [
    "# - peggiori mesi\n",
    "bad_months = list([])\n",
    "for i in range(0,len(profits)):\n",
    "    bad_months.append(profit_after_tax[i] < mean_pat)\n",
    "bad_months"
   ]
  },
  {
   "cell_type": "code",
   "execution_count": 199,
   "id": "f68dd317",
   "metadata": {},
   "outputs": [
    {
     "data": {
      "text/plain": [
       "[False,\n",
       " False,\n",
       " True,\n",
       " False,\n",
       " False,\n",
       " False,\n",
       " False,\n",
       " False,\n",
       " False,\n",
       " False,\n",
       " False,\n",
       " False]"
      ]
     },
     "execution_count": 199,
     "metadata": {},
     "output_type": "execute_result"
    }
   ],
   "source": [
    "#bad ever month\n",
    "bad_ever_months = list([])\n",
    "for i in range(0,len(profits)):\n",
    "    bad_ever_months.append(profit_after_tax[i] == min(profit_after_tax))\n",
    "bad_ever_months"
   ]
  },
  {
   "cell_type": "code",
   "execution_count": null,
   "id": "6a122a8e",
   "metadata": {},
   "outputs": [],
   "source": []
  }
 ],
 "metadata": {
  "kernelspec": {
   "display_name": "Python 3 (ipykernel)",
   "language": "python",
   "name": "python3"
  },
  "language_info": {
   "codemirror_mode": {
    "name": "ipython",
    "version": 3
   },
   "file_extension": ".py",
   "mimetype": "text/x-python",
   "name": "python",
   "nbconvert_exporter": "python",
   "pygments_lexer": "ipython3",
   "version": "3.9.7"
  }
 },
 "nbformat": 4,
 "nbformat_minor": 5
}
