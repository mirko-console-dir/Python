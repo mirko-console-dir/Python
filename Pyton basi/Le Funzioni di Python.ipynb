{
 "cells": [
  {
   "cell_type": "code",
   "execution_count": 17,
   "id": "8bd8f3f6",
   "metadata": {},
   "outputs": [
    {
     "data": {
      "text/plain": [
       "range(1, 20)"
      ]
     },
     "execution_count": 17,
     "metadata": {},
     "output_type": "execute_result"
    }
   ],
   "source": [
    "#nativamente il core di Python ha poche func vanno implementati i Package\n",
    "\n",
    "range(1,20)"
   ]
  },
  {
   "cell_type": "code",
   "execution_count": 4,
   "id": "2308c4cd",
   "metadata": {},
   "outputs": [
    {
     "data": {
      "text/plain": [
       "[1, 2, 3, 4, 5, 6, 7, 8, 9, 10, 11, 12, 13, 14, 15, 16, 17, 18, 19]"
      ]
     },
     "execution_count": 4,
     "metadata": {},
     "output_type": "execute_result"
    }
   ],
   "source": [
    "list(range(1,20))"
   ]
  },
  {
   "cell_type": "code",
   "execution_count": 10,
   "id": "3ef66e5d",
   "metadata": {},
   "outputs": [
    {
     "data": {
      "text/plain": [
       "[1, 2, 3, 4, 5, 6, 7, 8, 9, 10, 11, 12, 13, 14, 15, 16, 17, 18, 19]"
      ]
     },
     "execution_count": 10,
     "metadata": {},
     "output_type": "execute_result"
    }
   ],
   "source": [
    "myList = list(range(1,20))\n",
    "myList"
   ]
  },
  {
   "cell_type": "code",
   "execution_count": 12,
   "id": "91f242e1",
   "metadata": {},
   "outputs": [
    {
     "data": {
      "text/plain": [
       "1"
      ]
     },
     "execution_count": 12,
     "metadata": {},
     "output_type": "execute_result"
    }
   ],
   "source": [
    "min(myList)"
   ]
  },
  {
   "cell_type": "code",
   "execution_count": 14,
   "id": "940fb337",
   "metadata": {},
   "outputs": [
    {
     "data": {
      "text/plain": [
       "19"
      ]
     },
     "execution_count": 14,
     "metadata": {},
     "output_type": "execute_result"
    }
   ],
   "source": [
    "max(myList)"
   ]
  },
  {
   "cell_type": "code",
   "execution_count": 18,
   "id": "58c2b1d4",
   "metadata": {},
   "outputs": [
    {
     "data": {
      "text/plain": [
       "19"
      ]
     },
     "execution_count": 18,
     "metadata": {},
     "output_type": "execute_result"
    }
   ],
   "source": [
    "len(myList)"
   ]
  },
  {
   "cell_type": "code",
   "execution_count": 19,
   "id": "51c7a5fd",
   "metadata": {},
   "outputs": [],
   "source": [
    "#UTILIZZARE PYTHON con i suoi Package\n",
    "#  Modules   un modulo è un file che contiene definizioni, funzioni, costanti e classi, \n",
    "#         ci permette di importare funzionalità da un modulo nello script di phyton o nella sessione di IPython \n",
    "#  Packages   è un modo di mettere assieme dei moduli e raggrupparli in modo gerarchico\n",
    "#. Come includere un pacckage nel nostro programma \n",
    "# Step1.  capire quale package ci serve per la funzionalità che ci serve\n",
    "#. processare video? analizzare testo?\n",
    "#  cercare su GitHub e cercare i package https://github.com/\n",
    "#\n",
    "\n",
    "# Step2. installarlo apri un nuovo terminal com command + T nella finestra del terminale\n",
    "#   o con conda: conda install packagename oppure con pip: pip install packagename\n",
    "# Step 3 importare package o qualche funzionalità nel codice o classe\n",
    "# import nomepackage name\n",
    "# from nomepackage.nomefunzionalità import nomepackage\n",
    "\n",
    "import scrapy\n"
   ]
  },
  {
   "cell_type": "code",
   "execution_count": 20,
   "id": "23e81223",
   "metadata": {},
   "outputs": [],
   "source": [
    "from scrapy.crawler import CrawlerProcess"
   ]
  },
  {
   "cell_type": "code",
   "execution_count": null,
   "id": "e0b2f640",
   "metadata": {},
   "outputs": [],
   "source": [
    "scrapy. # per vedere se funziona dopo il punto fare tab e \n",
    "        # il kernel che stiamo correndeo vede le dunzionalità e ce ll mostra"
   ]
  }
 ],
 "metadata": {
  "kernelspec": {
   "display_name": "Python 3 (ipykernel)",
   "language": "python",
   "name": "python3"
  },
  "language_info": {
   "codemirror_mode": {
    "name": "ipython",
    "version": 3
   },
   "file_extension": ".py",
   "mimetype": "text/x-python",
   "name": "python",
   "nbconvert_exporter": "python",
   "pygments_lexer": "ipython3",
   "version": "3.9.7"
  }
 },
 "nbformat": 4,
 "nbformat_minor": 5
}
